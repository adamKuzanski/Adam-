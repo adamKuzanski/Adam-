{
  "nbformat": 4,
  "nbformat_minor": 0,
  "metadata": {
    "colab": {
      "name": "Intro.ipynb",
      "provenance": [],
      "collapsed_sections": [],
      "toc_visible": true,
      "authorship_tag": "ABX9TyNvfHf4ACN8JZC8sPLu+nrG",
      "include_colab_link": true
    },
    "kernelspec": {
      "name": "python3",
      "display_name": "Python 3"
    }
  },
  "cells": [
    {
      "cell_type": "markdown",
      "metadata": {
        "id": "view-in-github",
        "colab_type": "text"
      },
      "source": [
        "<a href=\"https://colab.research.google.com/github/adamKuzanski/Adam-/blob/master/Intro.ipynb\" target=\"_parent\"><img src=\"https://colab.research.google.com/assets/colab-badge.svg\" alt=\"Open In Colab\"/></a>"
      ]
    },
    {
      "cell_type": "code",
      "metadata": {
        "id": "00M5CSD4V9P7",
        "colab_type": "code",
        "outputId": "ecf55170-c1ea-4fff-cece-f96d21ec2e63",
        "colab": {
          "base_uri": "https://localhost:8080/",
          "height": 34
        }
      },
      "source": [
        "import numpy as np\n"
      ],
      "execution_count": 1,
      "outputs": [
        {
          "output_type": "execute_result",
          "data": {
            "text/plain": [
              "'1.18.2'"
            ]
          },
          "metadata": {
            "tags": []
          },
          "execution_count": 1
        }
      ]
    },
    {
      "cell_type": "markdown",
      "metadata": {
        "id": "Rk7IA6IQZrV0",
        "colab_type": "text"
      },
      "source": [
        "**1D array**"
      ]
    },
    {
      "cell_type": "code",
      "metadata": {
        "id": "u2qYMJGUZt7q",
        "colab_type": "code",
        "colab": {
          "base_uri": "https://localhost:8080/",
          "height": 119
        },
        "outputId": "e1246b75-708f-4607-ac4c-d8b84b525e71"
      },
      "source": [
        "x = np.array([1, 3])\n",
        "print(x)\n",
        "print(type(x))\n",
        "print(x.ndim)\n",
        "print(x.shape)\n",
        "print(x.size)\n",
        "print(x.dtype)"
      ],
      "execution_count": 9,
      "outputs": [
        {
          "output_type": "stream",
          "text": [
            "[1 3]\n",
            "<class 'numpy.ndarray'>\n",
            "1\n",
            "(2,)\n",
            "2\n",
            "int64\n"
          ],
          "name": "stdout"
        }
      ]
    },
    {
      "cell_type": "code",
      "metadata": {
        "id": "X7i3_P8daJbT",
        "colab_type": "code",
        "colab": {
          "base_uri": "https://localhost:8080/",
          "height": 34
        },
        "outputId": "cf25a9f3-9661-4847-ac05-0f992a89a6fb"
      },
      "source": [
        "x = np.array([1.3, 2.3, 1.4])\n",
        "x.dtype"
      ],
      "execution_count": 10,
      "outputs": [
        {
          "output_type": "execute_result",
          "data": {
            "text/plain": [
              "dtype('float64')"
            ]
          },
          "metadata": {
            "tags": []
          },
          "execution_count": 10
        }
      ]
    },
    {
      "cell_type": "markdown",
      "metadata": {
        "id": "1vr1A_ywaRca",
        "colab_type": "text"
      },
      "source": [
        "2D **Array**"
      ]
    },
    {
      "cell_type": "code",
      "metadata": {
        "id": "eRzcJ9p2aPzk",
        "colab_type": "code",
        "colab": {
          "base_uri": "https://localhost:8080/",
          "height": 51
        },
        "outputId": "ee869e21-fa02-47e4-be0c-82320672b780"
      },
      "source": [
        "y = np.array([[1,2,3], [-3,-1,-1]])\n",
        "y"
      ],
      "execution_count": 14,
      "outputs": [
        {
          "output_type": "execute_result",
          "data": {
            "text/plain": [
              "array([[ 1,  2,  3],\n",
              "       [-3, -1, -1]])"
            ]
          },
          "metadata": {
            "tags": []
          },
          "execution_count": 14
        }
      ]
    },
    {
      "cell_type": "code",
      "metadata": {
        "id": "elU4tzQ4acNH",
        "colab_type": "code",
        "colab": {
          "base_uri": "https://localhost:8080/",
          "height": 34
        },
        "outputId": "f1ca7c07-c897-416a-ed37-6b080f92a323"
      },
      "source": [
        "y.shape"
      ],
      "execution_count": 17,
      "outputs": [
        {
          "output_type": "execute_result",
          "data": {
            "text/plain": [
              "(2, 3)"
            ]
          },
          "metadata": {
            "tags": []
          },
          "execution_count": 17
        }
      ]
    },
    {
      "cell_type": "markdown",
      "metadata": {
        "id": "Bt-FTY5bav-N",
        "colab_type": "text"
      },
      "source": [
        "**3D Array**"
      ]
    },
    {
      "cell_type": "code",
      "metadata": {
        "id": "BKR8luJXazKH",
        "colab_type": "code",
        "colab": {
          "base_uri": "https://localhost:8080/",
          "height": 34
        },
        "outputId": "b4f8009e-af10-419b-b57e-1a5229c92d7d"
      },
      "source": [
        "x = np.array( \n",
        "    [\n",
        "     [[1,2,4], [4,2,1]], \n",
        "      [[1,2,3], [9,9,9]] \n",
        "     ] \n",
        "    )\n",
        "\n",
        "print(x.ndim)\n",
        "print(x.shape)"
      ],
      "execution_count": 22,
      "outputs": [
        {
          "output_type": "execute_result",
          "data": {
            "text/plain": [
              "(2, 2, 3)"
            ]
          },
          "metadata": {
            "tags": []
          },
          "execution_count": 22
        }
      ]
    },
    {
      "cell_type": "markdown",
      "metadata": {
        "id": "N7Khv7WVbwWj",
        "colab_type": "text"
      },
      "source": [
        "**Typy danych**"
      ]
    },
    {
      "cell_type": "code",
      "metadata": {
        "id": "wgfaPVg9bz2s",
        "colab_type": "code",
        "colab": {
          "base_uri": "https://localhost:8080/",
          "height": 119
        },
        "outputId": "ad57b195-d2a8-4054-d034-79b4b2a41688"
      },
      "source": [
        "A = np.array([1, 2, 3], dtype='float')\n",
        "print(A.dtype)\n",
        "\n",
        "A = np.array([1, 2, 3], dtype='complex')\n",
        "print(A.dtype)\n",
        "\n",
        "A = np.array([1.0, 2.2, 3.6], dtype='int')\n",
        "print(A.dtype)\n",
        "print(A)\n",
        "\n",
        "A = np.array([True, False, False], dtype='bool')\n",
        "print(A.dtype)\n",
        "\n",
        "A = np.array([24,120,230], dtype=np.uint)\n",
        "print(A.dtype)"
      ],
      "execution_count": 26,
      "outputs": [
        {
          "output_type": "stream",
          "text": [
            "float64\n",
            "complex128\n",
            "int64\n",
            "[1 2 3]\n",
            "bool\n",
            "uint64\n"
          ],
          "name": "stdout"
        }
      ]
    },
    {
      "cell_type": "markdown",
      "metadata": {
        "id": "NdJtWN9rcp9Y",
        "colab_type": "text"
      },
      "source": [
        "**Tworzenie Tablic**"
      ]
    },
    {
      "cell_type": "code",
      "metadata": {
        "id": "5Nr1slRbcsJn",
        "colab_type": "code",
        "colab": {
          "base_uri": "https://localhost:8080/",
          "height": 136
        },
        "outputId": "1bc2199b-86db-4c53-ac41-9588c10c1f15"
      },
      "source": [
        "np.zeros(shape=(2, 3, 4), dtype='int')"
      ],
      "execution_count": 35,
      "outputs": [
        {
          "output_type": "execute_result",
          "data": {
            "text/plain": [
              "array([[[0, 0, 0, 0],\n",
              "        [0, 0, 0, 0],\n",
              "        [0, 0, 0, 0]],\n",
              "\n",
              "       [[0, 0, 0, 0],\n",
              "        [0, 0, 0, 0],\n",
              "        [0, 0, 0, 0]]])"
            ]
          },
          "metadata": {
            "tags": []
          },
          "execution_count": 35
        }
      ]
    },
    {
      "cell_type": "code",
      "metadata": {
        "id": "HK5CDBy9dFOv",
        "colab_type": "code",
        "colab": {
          "base_uri": "https://localhost:8080/",
          "height": 102
        },
        "outputId": "d593bdb1-3758-423a-a810-47115a311cf1"
      },
      "source": [
        "np.ones(shape=(5,5), dtype='int')"
      ],
      "execution_count": 36,
      "outputs": [
        {
          "output_type": "execute_result",
          "data": {
            "text/plain": [
              "array([[1, 1, 1, 1, 1],\n",
              "       [1, 1, 1, 1, 1],\n",
              "       [1, 1, 1, 1, 1],\n",
              "       [1, 1, 1, 1, 1],\n",
              "       [1, 1, 1, 1, 1]])"
            ]
          },
          "metadata": {
            "tags": []
          },
          "execution_count": 36
        }
      ]
    },
    {
      "cell_type": "code",
      "metadata": {
        "id": "0INo6x9sdMEu",
        "colab_type": "code",
        "colab": {
          "base_uri": "https://localhost:8080/",
          "height": 85
        },
        "outputId": "314d1fad-0ca5-420d-b529-1fbe4526ed9f"
      },
      "source": [
        "np.full(shape=(4,4), fill_value=5, dtype='int')"
      ],
      "execution_count": 37,
      "outputs": [
        {
          "output_type": "execute_result",
          "data": {
            "text/plain": [
              "array([[5, 5, 5, 5],\n",
              "       [5, 5, 5, 5],\n",
              "       [5, 5, 5, 5],\n",
              "       [5, 5, 5, 5]])"
            ]
          },
          "metadata": {
            "tags": []
          },
          "execution_count": 37
        }
      ]
    },
    {
      "cell_type": "code",
      "metadata": {
        "id": "Y2uJi5N4dT6o",
        "colab_type": "code",
        "colab": {
          "base_uri": "https://localhost:8080/",
          "height": 34
        },
        "outputId": "ce78071c-bb59-4bc5-a28d-960ceb39db8e"
      },
      "source": [
        "np.arange(10)"
      ],
      "execution_count": 38,
      "outputs": [
        {
          "output_type": "execute_result",
          "data": {
            "text/plain": [
              "array([0, 1, 2, 3, 4, 5, 6, 7, 8, 9])"
            ]
          },
          "metadata": {
            "tags": []
          },
          "execution_count": 38
        }
      ]
    },
    {
      "cell_type": "code",
      "metadata": {
        "id": "alUFE_yFdXvU",
        "colab_type": "code",
        "colab": {
          "base_uri": "https://localhost:8080/",
          "height": 34
        },
        "outputId": "f30a129d-3196-498a-e6e5-943325c3f3ef"
      },
      "source": [
        "np.arange(start=10, stop=100, step=0.05)"
      ],
      "execution_count": 44,
      "outputs": [
        {
          "output_type": "execute_result",
          "data": {
            "text/plain": [
              "array([10.  , 10.05, 10.1 , ..., 99.85, 99.9 , 99.95])"
            ]
          },
          "metadata": {
            "tags": []
          },
          "execution_count": 44
        }
      ]
    },
    {
      "cell_type": "code",
      "metadata": {
        "id": "_SrLbns4dvDm",
        "colab_type": "code",
        "colab": {
          "base_uri": "https://localhost:8080/",
          "height": 51
        },
        "outputId": "f9878917-4208-4d6a-aa50-f82bd29e7228"
      },
      "source": [
        "np.linspace(start=0, stop=1, num=10)"
      ],
      "execution_count": 45,
      "outputs": [
        {
          "output_type": "execute_result",
          "data": {
            "text/plain": [
              "array([0.        , 0.11111111, 0.22222222, 0.33333333, 0.44444444,\n",
              "       0.55555556, 0.66666667, 0.77777778, 0.88888889, 1.        ])"
            ]
          },
          "metadata": {
            "tags": []
          },
          "execution_count": 45
        }
      ]
    },
    {
      "cell_type": "code",
      "metadata": {
        "id": "8B3Hr9fyl1n2",
        "colab_type": "code",
        "colab": {
          "base_uri": "https://localhost:8080/",
          "height": 68
        },
        "outputId": "f7aee78e-c768-4657-b8c5-ef946bf8436f"
      },
      "source": [
        "A = np.arange(15)\n",
        "# A = A.reshape((3,5))\n",
        "A = A.reshape((3, -1))\n",
        "A"
      ],
      "execution_count": 53,
      "outputs": [
        {
          "output_type": "execute_result",
          "data": {
            "text/plain": [
              "array([[ 0,  1,  2,  3,  4],\n",
              "       [ 5,  6,  7,  8,  9],\n",
              "       [10, 11, 12, 13, 14]])"
            ]
          },
          "metadata": {
            "tags": []
          },
          "execution_count": 53
        }
      ]
    },
    {
      "cell_type": "markdown",
      "metadata": {
        "id": "wpvAidjpmVyD",
        "colab_type": "text"
      },
      "source": [
        "**Działania na tablicach**"
      ]
    },
    {
      "cell_type": "code",
      "metadata": {
        "id": "mN30_rWfmdjI",
        "colab_type": "code",
        "colab": {
          "base_uri": "https://localhost:8080/",
          "height": 51
        },
        "outputId": "4e270c94-f3ed-4104-90da-f1c923cd60a0"
      },
      "source": [
        "A = np.array([3, 1, 4, 2])\n",
        "B = np.array([3, -1, 3, 2])\n",
        "print(A)\n",
        "print(B)"
      ],
      "execution_count": 55,
      "outputs": [
        {
          "output_type": "stream",
          "text": [
            "[3 1 4 2]\n",
            "[ 3 -1  3  2]\n"
          ],
          "name": "stdout"
        }
      ]
    },
    {
      "cell_type": "code",
      "metadata": {
        "id": "P72UT_6amntA",
        "colab_type": "code",
        "colab": {
          "base_uri": "https://localhost:8080/",
          "height": 34
        },
        "outputId": "a8a4fb6b-a3fc-4c56-d4d7-9965aa557627"
      },
      "source": [
        "A + B"
      ],
      "execution_count": 56,
      "outputs": [
        {
          "output_type": "execute_result",
          "data": {
            "text/plain": [
              "array([6, 0, 7, 4])"
            ]
          },
          "metadata": {
            "tags": []
          },
          "execution_count": 56
        }
      ]
    },
    {
      "cell_type": "code",
      "metadata": {
        "id": "H4c18AApmozy",
        "colab_type": "code",
        "colab": {
          "base_uri": "https://localhost:8080/",
          "height": 34
        },
        "outputId": "9d7105eb-fd6f-49ba-9037-fca6bd288956"
      },
      "source": [
        "A - B"
      ],
      "execution_count": 57,
      "outputs": [
        {
          "output_type": "execute_result",
          "data": {
            "text/plain": [
              "array([0, 2, 1, 0])"
            ]
          },
          "metadata": {
            "tags": []
          },
          "execution_count": 57
        }
      ]
    },
    {
      "cell_type": "code",
      "metadata": {
        "id": "MQeD36GmmrU6",
        "colab_type": "code",
        "colab": {
          "base_uri": "https://localhost:8080/",
          "height": 34
        },
        "outputId": "28ccebb4-96e2-4b0b-da8d-42985cdb93c9"
      },
      "source": [
        "A * B"
      ],
      "execution_count": 58,
      "outputs": [
        {
          "output_type": "execute_result",
          "data": {
            "text/plain": [
              "array([ 9, -1, 12,  4])"
            ]
          },
          "metadata": {
            "tags": []
          },
          "execution_count": 58
        }
      ]
    },
    {
      "cell_type": "code",
      "metadata": {
        "id": "B2m8xew-m2MU",
        "colab_type": "code",
        "colab": {
          "base_uri": "https://localhost:8080/",
          "height": 34
        },
        "outputId": "ad189158-ec54-4115-e116-921ebb3bee45"
      },
      "source": [
        "A / 2"
      ],
      "execution_count": 59,
      "outputs": [
        {
          "output_type": "execute_result",
          "data": {
            "text/plain": [
              "array([1.5, 0.5, 2. , 1. ])"
            ]
          },
          "metadata": {
            "tags": []
          },
          "execution_count": 59
        }
      ]
    },
    {
      "cell_type": "code",
      "metadata": {
        "id": "CSvZApc_m66V",
        "colab_type": "code",
        "colab": {
          "base_uri": "https://localhost:8080/",
          "height": 34
        },
        "outputId": "a6cb7eec-28da-4a03-8974-c59c3bf80b26"
      },
      "source": [
        "A + 3 #doda stałą"
      ],
      "execution_count": 61,
      "outputs": [
        {
          "output_type": "execute_result",
          "data": {
            "text/plain": [
              "array([6, 4, 7, 5])"
            ]
          },
          "metadata": {
            "tags": []
          },
          "execution_count": 61
        }
      ]
    },
    {
      "cell_type": "code",
      "metadata": {
        "id": "71zx8Q_GnD4x",
        "colab_type": "code",
        "colab": {
          "base_uri": "https://localhost:8080/",
          "height": 34
        },
        "outputId": "7d3fa8f5-eb4c-4b64-83f4-95e46d21da22"
      },
      "source": [
        "A + 3*B"
      ],
      "execution_count": 63,
      "outputs": [
        {
          "output_type": "execute_result",
          "data": {
            "text/plain": [
              "array([12, -2, 13,  8])"
            ]
          },
          "metadata": {
            "tags": []
          },
          "execution_count": 63
        }
      ]
    },
    {
      "cell_type": "code",
      "metadata": {
        "id": "RhbYlQFxnIQg",
        "colab_type": "code",
        "colab": {
          "base_uri": "https://localhost:8080/",
          "height": 85
        },
        "outputId": "7d34ee05-66d5-4054-f41e-88e810d3185c"
      },
      "source": [
        "print(np.add(A, B))\n",
        "print(np.subtract(A, B))\n",
        "print(np.multiply(A, B))\n",
        "print(np.divide(A, B))\n"
      ],
      "execution_count": 65,
      "outputs": [
        {
          "output_type": "stream",
          "text": [
            "[6 0 7 4]\n",
            "[0 2 1 0]\n",
            "[ 9 -1 12  4]\n",
            "[ 1.         -1.          1.33333333  1.        ]\n"
          ],
          "name": "stdout"
        }
      ]
    },
    {
      "cell_type": "code",
      "metadata": {
        "id": "dpoCunExnX6y",
        "colab_type": "code",
        "colab": {
          "base_uri": "https://localhost:8080/",
          "height": 391
        },
        "outputId": "bb46e7b7-8d8b-4d05-b539-bf8041a84227"
      },
      "source": [
        "X = np.array([[1, 3], [-2, 0]])\n",
        "Y = np.array([[6, 0], [-1, 2]])\n",
        "\n",
        "print(\"Mnożenie element po elemencie\")\n",
        "print(X * Y)\n",
        "print('\\n')\n",
        "\n",
        "print(\"Mnożenie macieży\")\n",
        "print(np.dot(X, Y))\n",
        "print('\\n')\n",
        "print(np.dot(Y, X))\n",
        "print('\\n')\n",
        "print(X.dot(Y))\n",
        "print('\\n')\n",
        "print( X @ Y)\n",
        "print('\\n')"
      ],
      "execution_count": 76,
      "outputs": [
        {
          "output_type": "stream",
          "text": [
            "Mnożenie element po elemencie\n",
            "[[6 0]\n",
            " [2 0]]\n",
            "\n",
            "\n",
            "Mnożenie macieży\n",
            "[[  3   6]\n",
            " [-12   0]]\n",
            "\n",
            "\n",
            "[[ 6 18]\n",
            " [-5 -3]]\n",
            "\n",
            "\n",
            "[[  3   6]\n",
            " [-12   0]]\n",
            "\n",
            "\n",
            "[[  3   6]\n",
            " [-12   0]]\n",
            "\n",
            "\n"
          ],
          "name": "stdout"
        }
      ]
    }
  ]
}